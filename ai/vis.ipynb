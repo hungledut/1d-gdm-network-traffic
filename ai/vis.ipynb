{
 "cells": [
  {
   "cell_type": "code",
   "execution_count": 1,
   "metadata": {},
   "outputs": [
    {
     "name": "stderr",
     "output_type": "stream",
     "text": [
      "/Users/mkhoatd/Developer/gdm-network/ai/.venv/lib/python3.12/site-packages/tqdm/auto.py:21: TqdmWarning: IProgress not found. Please update jupyter and ipywidgets. See https://ipywidgets.readthedocs.io/en/stable/user_install.html\n",
      "  from .autonotebook import tqdm as notebook_tqdm\n"
     ]
    }
   ],
   "source": [
    "import pandas as pd\n",
    "import numpy as np\n",
    "import category_encoders as ce\n",
    "import torch\n",
    "from sklearn.preprocessing import MinMaxScaler\n",
    "from denoising_diffusion_pytorch import Unet1D, GaussianDiffusion1D, Trainer1D, Dataset1D\n",
    "import threading\n",
    "import json"
   ]
  },
  {
   "cell_type": "code",
   "execution_count": 2,
   "metadata": {},
   "outputs": [],
   "source": [
    "#%%\n",
    "\n",
    "\n",
    "\n",
    "\n",
    "diffusion = None\n",
    "trainer = None\n",
    "scaler = None\n",
    "encoder = None\n",
    "data_cols = None\n",
    "res_cached = []\n",
    "\n",
    "infer_mutex = threading.Lock()\n",
    "\n",
    "\n",
    "def load_model(input, weights):\n",
    "    global trainer\n",
    "    global diffusion\n",
    "    global scaler\n",
    "    global encoder\n",
    "    global data_cols\n",
    "    data = pd.read_csv(input)\n",
    "    data = data.drop(columns = 'id')\n",
    "    #Create object for one-hot encoding\n",
    "    encoder=ce.OneHotEncoder(cols=['state','proto','attack_cat','service'],handle_unknown='return_nan',return_df=True,use_cat_names=True)\n",
    "    #Fit and transform Data\n",
    "    data_encoded = encoder.fit_transform(data)\n",
    "    scaler = MinMaxScaler()\n",
    "    dataset1_norm = scaler.fit_transform(data_encoded.values)\n",
    "    dataset1 = torch.Tensor(dataset1_norm)\n",
    "    dataset1 = torch.unsqueeze(dataset1,1)\n",
    "    shape0 = dataset1.shape[0]\n",
    "    shape1 = dataset1.shape[1]\n",
    "    dataset1 = torch.concat([dataset1,torch.zeros(shape0,shape1,3)],dim=2)\n",
    "    data_cols = data_encoded.columns\n",
    "    ######################################################################################\n",
    "\n",
    "\n",
    "    model = Unet1D(\n",
    "        dim = 16,\n",
    "        dim_mults = (1, 2, 4, 8),\n",
    "        channels = 1\n",
    "        )\n",
    "\n",
    "    diffusion = GaussianDiffusion1D(\n",
    "        model,\n",
    "        seq_length = 208,\n",
    "        timesteps = 1000,\n",
    "        objective = 'pred_v'\n",
    "        )\n",
    "\n",
    "    dataset = Dataset1D(dataset1)  \n",
    "    amp = False if not torch.cuda.is_available() else True\n",
    "\n",
    "    trainer = Trainer1D(\n",
    "        diffusion,\n",
    "        dataset = dataset,\n",
    "        train_batch_size = 1,\n",
    "        train_lr = 8e-5,\n",
    "        train_num_steps = 10000,         # total training steps\n",
    "        gradient_accumulate_every = 2,    # gradient accumulation steps\n",
    "        ema_decay = 0.995,                # exponential moving average decay\n",
    "        amp = amp,                       # turn on mixed precision\n",
    "        )\n",
    "    trainer.load(weights)\n",
    "\n",
    "\n",
    "def infer(size=100):\n",
    "    # Acquire mutex before running inference\n",
    "    with infer_mutex:\n",
    "        if diffusion is None:\n",
    "            input = 'UNSW_NB15_testing-set.csv'\n",
    "            weights = 'network-traffic'\n",
    "            # print(GDM_model(input,weights))\n",
    "            load_model(input, weights)\n",
    "        sampled_seq = diffusion.sample(batch_size = size)\n",
    "        sampled_seq_sq = torch.squeeze(sampled_seq, 1)[:,0:-3]\n",
    "        sampled_seq_sq = scaler.inverse_transform(sampled_seq_sq.cpu())\n",
    "        a = sampled_seq_sq\n",
    "        #### \n",
    "        argmax = np.argmax(a[:,1:134],axis=1) + 1\n",
    "        for i in range(0,a.shape[0]):\n",
    "            for j in range(0,a.shape[1]):\n",
    "                if j == argmax[i] and j >= 1 and j <= 133:\n",
    "                    a[i][j] = 1\n",
    "                elif j != argmax[i] and j >= 1 and j <= 133:\n",
    "                    a[i][j] = 0\n",
    "        ###\n",
    "        argmax = np.argmax(a[:,134:147],axis=1) + 134\n",
    "        for i in range(0,a.shape[0]):\n",
    "            for j in range(0,a.shape[1]):\n",
    "                if j == argmax[i] and j >= 134 and j <= 146:\n",
    "                    a[i][j] = 1\n",
    "                elif j != argmax[i] and j >= 134 and j <= 146:\n",
    "                    a[i][j] = 0\n",
    "        ###\n",
    "        argmax = np.argmax(a[:,147:156],axis=1) + 147\n",
    "        for i in range(0,a.shape[0]):\n",
    "            for j in range(0,a.shape[1]):\n",
    "                if j == argmax[i] and j >= 147 and j <= 155:\n",
    "                    a[i][j] = 1\n",
    "                elif j != argmax[i] and j >= 147 and j <= 155:\n",
    "                    a[i][j] = 0\n",
    "        ###\n",
    "        argmax = np.argmax(a[:,194:204],axis=1) + 194\n",
    "        for i in range(0,a.shape[0]):\n",
    "            for j in range(0,a.shape[1]):\n",
    "                if j == argmax[i] and j >= 194 and j <= 203:\n",
    "                    a[i][j] = 1\n",
    "                elif j != argmax[i] and j >= 194 and j <= 203:\n",
    "                    a[i][j] = 0\n",
    "        sampled_seq_df = pd.DataFrame(a)\n",
    "        sampled_seq_df.columns = data_cols\n",
    "        data_decoded = encoder.inverse_transform(sampled_seq_df)\n",
    "        columns_to_convert = ['spkts', 'dpkts', 'sbytes', 'dbytes', 'sttl', 'dttl', 'sloss', 'dloss', 'swin', 'stcpb', 'dtcpb', 'dwin', 'smean', 'dmean', 'trans_depth',\n",
    "                         'response_body_len', 'ct_srv_src', 'ct_state_ttl', 'ct_dst_ltm', 'ct_src_dport_ltm', 'ct_dst_sport_ltm', 'ct_dst_src_ltm', 'is_ftp_login',\n",
    "                          'ct_ftp_cmd', 'ct_flw_http_mthd', 'ct_src_ltm', 'ct_srv_dst', 'is_sm_ips_ports', 'label']\n",
    "\n",
    "        data_decoded[columns_to_convert] = data_decoded[columns_to_convert].astype(float).round().astype(int)\n",
    "\n",
    "        return data_decoded\n",
    "\n",
    "\n",
    "def GDM_model(input,weights):\n",
    "\n",
    "    ############################### Pre-processing ######################################\n",
    "    data = pd.read_csv(input)\n",
    "    data = data.drop(columns = 'id')\n",
    "    #Create object for one-hot encoding\n",
    "    encoder=ce.OneHotEncoder(cols=['state','proto','attack_cat','service'],handle_unknown='return_nan',return_df=True,use_cat_names=True)\n",
    "    #Fit and transform Data\n",
    "    data_encoded = encoder.fit_transform(data)\n",
    "    scaler = MinMaxScaler()\n",
    "    dataset1_norm = scaler.fit_transform(data_encoded.values)\n",
    "    dataset1 = torch.Tensor(dataset1_norm)\n",
    "    dataset1 = torch.unsqueeze(dataset1,1)\n",
    "    shape0 = dataset1.shape[0]\n",
    "    shape1 = dataset1.shape[1]\n",
    "    dataset1 = torch.concat([dataset1,torch.zeros(shape0,shape1,3)],dim=2)\n",
    "    ######################################################################################\n",
    "\n",
    "\n",
    "    model = Unet1D(\n",
    "        dim = 16,\n",
    "        dim_mults = (1, 2, 4, 8),\n",
    "        channels = 1\n",
    "        )\n",
    "\n",
    "    diffusion = GaussianDiffusion1D(\n",
    "        model,\n",
    "        seq_length = 208,\n",
    "        timesteps = 1000,\n",
    "        objective = 'pred_v'\n",
    "        )\n",
    "\n",
    "    dataset = Dataset1D(dataset1)  \n",
    "\n",
    "    trainer = Trainer1D(\n",
    "        diffusion,\n",
    "        dataset = dataset,\n",
    "        train_batch_size = 1,\n",
    "        train_lr = 8e-5,\n",
    "        train_num_steps = 10000,         # total training steps\n",
    "        gradient_accumulate_every = 2,    # gradient accumulation steps\n",
    "        ema_decay = 0.995,                # exponential moving average decay\n",
    "        amp = False,                       # turn on mixed precision\n",
    "        )\n",
    "    trainer.load(weights)\n",
    "\n",
    "    ####################################### Post processing ##############################################\n",
    "    sampled_seq = diffusion.sample(batch_size = 100)\n",
    "    sampled_seq_sq = torch.squeeze(sampled_seq, 1)[:,0:-3]\n",
    "    sampled_seq_sq = scaler.inverse_transform(sampled_seq_sq.cpu())\n",
    "    a = sampled_seq_sq\n",
    "    #### \n",
    "    argmax = np.argmax(a[:,1:134],axis=1) + 1\n",
    "    for i in range(0,a.shape[0]):\n",
    "        for j in range(0,a.shape[1]):\n",
    "            if j == argmax[i] and j >= 1 and j <= 133:\n",
    "                a[i][j] = 1\n",
    "            elif j != argmax[i] and j >= 1 and j <= 133:\n",
    "                a[i][j] = 0\n",
    "    ###\n",
    "    argmax = np.argmax(a[:,134:147],axis=1) + 134\n",
    "    for i in range(0,a.shape[0]):\n",
    "        for j in range(0,a.shape[1]):\n",
    "            if j == argmax[i] and j >= 134 and j <= 146:\n",
    "                a[i][j] = 1\n",
    "            elif j != argmax[i] and j >= 134 and j <= 146:\n",
    "                a[i][j] = 0\n",
    "    ###\n",
    "    argmax = np.argmax(a[:,147:156],axis=1) + 147\n",
    "    for i in range(0,a.shape[0]):\n",
    "        for j in range(0,a.shape[1]):\n",
    "            if j == argmax[i] and j >= 147 and j <= 155:\n",
    "                a[i][j] = 1\n",
    "            elif j != argmax[i] and j >= 147 and j <= 155:\n",
    "                a[i][j] = 0\n",
    "    ###\n",
    "    argmax = np.argmax(a[:,194:204],axis=1) + 194\n",
    "    for i in range(0,a.shape[0]):\n",
    "        for j in range(0,a.shape[1]):\n",
    "            if j == argmax[i] and j >= 194 and j <= 203:\n",
    "                a[i][j] = 1\n",
    "            elif j != argmax[i] and j >= 194 and j <= 203:\n",
    "                a[i][j] = 0\n",
    "    sampled_seq_df = pd.DataFrame(a)\n",
    "    sampled_seq_df.columns = data_encoded.columns\n",
    "    data_decoded = encoder.inverse_transform(sampled_seq_df)\n",
    "    columns_to_convert = ['spkts', 'dpkts', 'sbytes', 'dbytes', 'sttl', 'dttl', 'sloss', 'dloss', 'swin', 'stcpb', 'dtcpb', 'dwin', 'smean', 'dmean', 'trans_depth',\n",
    "                     'response_body_len', 'ct_srv_src', 'ct_state_ttl', 'ct_dst_ltm', 'ct_src_dport_ltm', 'ct_dst_sport_ltm', 'ct_dst_src_ltm', 'is_ftp_login',\n",
    "                      'ct_ftp_cmd', 'ct_flw_http_mthd', 'ct_src_ltm', 'ct_srv_dst', 'is_sm_ips_ports', 'label']\n",
    "\n",
    "    data_decoded[columns_to_convert] = data_decoded[columns_to_convert].astype(float).round().astype(int)\n",
    "\n",
    "    return data_decoded\n"
   ]
  },
  {
   "cell_type": "code",
   "execution_count": 3,
   "metadata": {},
   "outputs": [
    {
     "name": "stdout",
     "output_type": "stream",
     "text": [
      "loading from version 2.1.1\n"
     ]
    }
   ],
   "source": [
    "input = 'UNSW_NB15_testing-set.csv'\n",
    "weights = 'network-traffic'\n",
    "# print(GDM_model(input,weights))\n",
    "load_model(input, weights)"
   ]
  },
  {
   "cell_type": "code",
   "execution_count": 8,
   "metadata": {},
   "outputs": [
    {
     "name": "stderr",
     "output_type": "stream",
     "text": [
      "sampling loop time step: 100%|██████████| 1000/1000 [00:39<00:00, 25.30it/s]\n"
     ]
    }
   ],
   "source": [
    "res = infer(2)"
   ]
  },
  {
   "cell_type": "code",
   "execution_count": 10,
   "metadata": {},
   "outputs": [
    {
     "data": {
      "text/plain": [
       "Index(['dur', 'proto', 'service', 'state', 'spkts', 'dpkts', 'sbytes',\n",
       "       'dbytes', 'rate', 'sttl', 'dttl', 'sload', 'dload', 'sloss', 'dloss',\n",
       "       'sinpkt', 'dinpkt', 'sjit', 'djit', 'swin', 'stcpb', 'dtcpb', 'dwin',\n",
       "       'tcprtt', 'synack', 'ackdat', 'smean', 'dmean', 'trans_depth',\n",
       "       'response_body_len', 'ct_srv_src', 'ct_state_ttl', 'ct_dst_ltm',\n",
       "       'ct_src_dport_ltm', 'ct_dst_sport_ltm', 'ct_dst_src_ltm',\n",
       "       'is_ftp_login', 'ct_ftp_cmd', 'ct_flw_http_mthd', 'ct_src_ltm',\n",
       "       'ct_srv_dst', 'is_sm_ips_ports', 'attack_cat', 'label'],\n",
       "      dtype='object')"
      ]
     },
     "execution_count": 10,
     "metadata": {},
     "output_type": "execute_result"
    }
   ],
   "source": [
    "res.columns"
   ]
  },
  {
   "cell_type": "code",
   "execution_count": 11,
   "metadata": {},
   "outputs": [],
   "source": [
    "with open('res.json', 'w') as f:\n",
    "    json.dump(res.to_dict(orient='records'), f)\n"
   ]
  },
  {
   "cell_type": "code",
   "execution_count": 8,
   "metadata": {},
   "outputs": [],
   "source": [
    "d = res.to_dict()"
   ]
  },
  {
   "cell_type": "code",
   "execution_count": 9,
   "metadata": {},
   "outputs": [
    {
     "data": {
      "text/plain": [
       "dict_keys(['dur', 'proto', 'service', 'state', 'spkts', 'dpkts', 'sbytes', 'dbytes', 'rate', 'sttl', 'dttl', 'sload', 'dload', 'sloss', 'dloss', 'sinpkt', 'dinpkt', 'sjit', 'djit', 'swin', 'stcpb', 'dtcpb', 'dwin', 'tcprtt', 'synack', 'ackdat', 'smean', 'dmean', 'trans_depth', 'response_body_len', 'ct_srv_src', 'ct_state_ttl', 'ct_dst_ltm', 'ct_src_dport_ltm', 'ct_dst_sport_ltm', 'ct_dst_src_ltm', 'is_ftp_login', 'ct_ftp_cmd', 'ct_flw_http_mthd', 'ct_src_ltm', 'ct_srv_dst', 'is_sm_ips_ports', 'attack_cat', 'label'])"
      ]
     },
     "execution_count": 9,
     "metadata": {},
     "output_type": "execute_result"
    }
   ],
   "source": [
    "d.keys()"
   ]
  }
 ],
 "metadata": {
  "kernelspec": {
   "display_name": ".venv",
   "language": "python",
   "name": "python3"
  },
  "language_info": {
   "codemirror_mode": {
    "name": "ipython",
    "version": 3
   },
   "file_extension": ".py",
   "mimetype": "text/x-python",
   "name": "python",
   "nbconvert_exporter": "python",
   "pygments_lexer": "ipython3",
   "version": "3.12.7"
  }
 },
 "nbformat": 4,
 "nbformat_minor": 2
}
